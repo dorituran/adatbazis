{
    "metadata": {
        "kernelspec": {
            "name": "SQL",
            "display_name": "SQL",
            "language": "sql"
        },
        "language_info": {
            "name": "sql",
            "version": ""
        }
    },
    "nbformat_minor": 2,
    "nbformat": 4,
    "cells": [
        {
            "cell_type": "code",
            "source": [
                "SELECT EMAIL,\r\n",
                "NEV,\r\n",
                "UPPER(LEFT(NEV, 1) + RIGHT(NEV,1)) As 'Monogram'\r\n",
                "FROM dbo.Vendeg\r\n",
                "WHERE RIGHT (EMAIL, 2) ='hu'"
            ],
            "metadata": {
                "azdata_cell_guid": "26b48c41-0034-4de5-a28f-147f04c501fa",
                "language": "sql",
                "tags": []
            },
            "outputs": [
                {
                    "output_type": "display_data",
                    "data": {
                        "text/html": "(107 rows affected)"
                    },
                    "metadata": {}
                },
                {
                    "output_type": "display_data",
                    "data": {
                        "text/html": "Total execution time: 00:00:00.008"
                    },
                    "metadata": {}
                },
                {
                    "output_type": "execute_result",
                    "metadata": {},
                    "execution_count": 17,
                    "data": {
                        "application/vnd.dataresource+json": {
                            "schema": {
                                "fields": [
                                    {
                                        "name": "EMAIL"
                                    },
                                    {
                                        "name": "NEV"
                                    },
                                    {
                                        "name": "Monogram"
                                    }
                                ]
                            },
                            "data": [
                                {
                                    "EMAIL": "ádám.kiss@mail.hu",
                                    "NEV": "Kiss Ádám",
                                    "Monogram": "KM"
                                },
                                {
                                    "EMAIL": "ádám.bieniek@mail.hu",
                                    "NEV": "Bieniek Ádám",
                                    "Monogram": "BM"
                                },
                                {
                                    "EMAIL": "ákos.bíró@mail.hu",
                                    "NEV": "Bíró Ákos",
                                    "Monogram": "BS"
                                },
                                {
                                    "EMAIL": "aladár.dunai@mail.hu",
                                    "NEV": "Dunai Aladár",
                                    "Monogram": "DR"
                                },
                                {
                                    "EMAIL": "alexandra.bagóczki@mail.hu",
                                    "NEV": "Bagóczki Alexandra",
                                    "Monogram": "BA"
                                },
                                {
                                    "EMAIL": "andrea.maródi@mail.hu",
                                    "NEV": "Maródi Andrea",
                                    "Monogram": "MA"
                                },
                                {
                                    "EMAIL": "andrás.tóth@mail.hu",
                                    "NEV": "Tóth András",
                                    "Monogram": "TS"
                                },
                                {
                                    "EMAIL": "andrás.molnár@mail.hu",
                                    "NEV": "Molnár András",
                                    "Monogram": "MS"
                                },
                                {
                                    "EMAIL": "andrás.vígh@mail.hu",
                                    "NEV": "Vígh András",
                                    "Monogram": "VS"
                                },
                                {
                                    "EMAIL": "andrás.nagy@mail.hu",
                                    "NEV": "Nagy András",
                                    "Monogram": "NS"
                                },
                                {
                                    "EMAIL": "andrea.kiss@mail.hu",
                                    "NEV": "Kiss Andrea",
                                    "Monogram": "KA"
                                },
                                {
                                    "EMAIL": "anett.pivarcsi@mail.hu",
                                    "NEV": "Pivarcsi Anett",
                                    "Monogram": "PT"
                                },
                                {
                                    "EMAIL": "anita.hamvay-kovács@mail.hu",
                                    "NEV": "Hamvay-Kovács Anita",
                                    "Monogram": "HA"
                                },
                                {
                                    "EMAIL": "annamária.szűcs@mail.hu",
                                    "NEV": "Szűcs Annamária",
                                    "Monogram": "SA"
                                },
                                {
                                    "EMAIL": "áron.kelemen@mail.hu",
                                    "NEV": "Kelemen Áron",
                                    "Monogram": "KN"
                                },
                                {
                                    "EMAIL": "árpád.ötvös@mail.hu",
                                    "NEV": "Ötvös Árpád",
                                    "Monogram": "ÖD"
                                },
                                {
                                    "EMAIL": "árpád.horváth@mail.hu",
                                    "NEV": "Horváth Árpád",
                                    "Monogram": "HD"
                                },
                                {
                                    "EMAIL": "árpád.móricz@mail.hu",
                                    "NEV": "Móricz Árpád",
                                    "Monogram": "MD"
                                },
                                {
                                    "EMAIL": "attila.gulyás@mail.hu",
                                    "NEV": "Gulyás Attila",
                                    "Monogram": "GA"
                                },
                                {
                                    "EMAIL": "attila.baróti@mail.hu",
                                    "NEV": "Baróti Attila",
                                    "Monogram": "BA"
                                },
                                {
                                    "EMAIL": "balázs.bozsik@mail.hu",
                                    "NEV": "Bozsik Balázs",
                                    "Monogram": "BS"
                                },
                                {
                                    "EMAIL": "balázs.szűcs@mail.hu",
                                    "NEV": "Szűcs Balázs",
                                    "Monogram": "SS"
                                },
                                {
                                    "EMAIL": "bálint.endresz@mail.hu",
                                    "NEV": "Endresz Bálint",
                                    "Monogram": "ET"
                                },
                                {
                                    "EMAIL": "beáta.bagi@mail.hu",
                                    "NEV": "Bagi Beáta",
                                    "Monogram": "BA"
                                },
                                {
                                    "EMAIL": "beatrix.kerényi@mail.hu",
                                    "NEV": "Kerényi Beatrix",
                                    "Monogram": "KX"
                                },
                                {
                                    "EMAIL": "beatrix.szekendi@mail.hu",
                                    "NEV": "Szekendi Beatrix",
                                    "Monogram": "SX"
                                },
                                {
                                    "EMAIL": "bence.bajusz@mail.hu",
                                    "NEV": "Bajusz Bence",
                                    "Monogram": "BE"
                                },
                                {
                                    "EMAIL": "bernadett.kovács@mail.hu",
                                    "NEV": "Kovács Bernadett",
                                    "Monogram": "KT"
                                },
                                {
                                    "EMAIL": "bernadett.orbán@mail.hu",
                                    "NEV": "Orbán Bernadett",
                                    "Monogram": "OT"
                                },
                                {
                                    "EMAIL": "brigitta.székely@mail.hu",
                                    "NEV": "Székely Brigitta",
                                    "Monogram": "SA"
                                },
                                {
                                    "EMAIL": "brigitta.pataki@mail.hu",
                                    "NEV": "Pataki Brigitta",
                                    "Monogram": "PA"
                                },
                                {
                                    "EMAIL": "csongor.nagymihály@mail.hu",
                                    "NEV": "Nagymihály Csongor",
                                    "Monogram": "NR"
                                },
                                {
                                    "EMAIL": "dániel.rácz@mail.hu",
                                    "NEV": "Rácz Dániel",
                                    "Monogram": "RL"
                                },
                                {
                                    "EMAIL": "dániel.keszler@mail.hu",
                                    "NEV": "Keszler Dániel",
                                    "Monogram": "KL"
                                },
                                {
                                    "EMAIL": "debóra.barna@mail.hu",
                                    "NEV": "Barna Debóra",
                                    "Monogram": "BA"
                                },
                                {
                                    "EMAIL": "dóra.sarodi@mail.hu",
                                    "NEV": "Sarodi Dóra",
                                    "Monogram": "SA"
                                },
                                {
                                    "EMAIL": "edit.bittmann@mail.hu",
                                    "NEV": "Bittmann Edit",
                                    "Monogram": "BT"
                                },
                                {
                                    "EMAIL": "emese.kuruc@mail.hu",
                                    "NEV": "Kuruc Emese",
                                    "Monogram": "KE"
                                },
                                {
                                    "EMAIL": "eszter.molnár@mail.hu",
                                    "NEV": "Molnár Eszter",
                                    "Monogram": "MR"
                                },
                                {
                                    "EMAIL": "eszter.balogh@mail.hu",
                                    "NEV": "Balogh Eszter",
                                    "Monogram": "BR"
                                },
                                {
                                    "EMAIL": "eszter.fülöp@mail.hu",
                                    "NEV": "Fülöp Eszter",
                                    "Monogram": "FR"
                                },
                                {
                                    "EMAIL": "eszter.érsek@mail.hu",
                                    "NEV": "Érsek Eszter",
                                    "Monogram": "ÉR"
                                },
                                {
                                    "EMAIL": "ferenc.orosz@mail.hu",
                                    "NEV": "Orosz Ferenc",
                                    "Monogram": "OC"
                                },
                                {
                                    "EMAIL": "gábor.telek@mail.hu",
                                    "NEV": "Telek Gábor",
                                    "Monogram": "TR"
                                },
                                {
                                    "EMAIL": "georgij.nyíri@mail.hu",
                                    "NEV": "Nyíri Georgij",
                                    "Monogram": "NJ"
                                },
                                {
                                    "EMAIL": "gyöngyi.kornseé@mail.hu",
                                    "NEV": "Kornseé Gyöngyi",
                                    "Monogram": "KI"
                                },
                                {
                                    "EMAIL": "henrik.nádudvari@mail.hu",
                                    "NEV": "Nádudvari Henrik",
                                    "Monogram": "NK"
                                },
                                {
                                    "EMAIL": "ibolya.andor@mail.hu",
                                    "NEV": "Andor Ibolya",
                                    "Monogram": "AA"
                                },
                                {
                                    "EMAIL": "imre.búza@mail.hu",
                                    "NEV": "Búza Imre",
                                    "Monogram": "BE"
                                },
                                {
                                    "EMAIL": "imre.papp@mail.hu",
                                    "NEV": "Papp Imre",
                                    "Monogram": "PE"
                                },
                                {
                                    "EMAIL": "istván.vizi@mail.hu",
                                    "NEV": "Vizi István",
                                    "Monogram": "VN"
                                },
                                {
                                    "EMAIL": "józsef.vajda@mail.hu",
                                    "NEV": "Vajda József",
                                    "Monogram": "VF"
                                },
                                {
                                    "EMAIL": "józsef.gyuris@mail.hu",
                                    "NEV": "Gyuris József",
                                    "Monogram": "GF"
                                },
                                {
                                    "EMAIL": "katalin.gondos@mail.hu",
                                    "NEV": "Gondos Katalin",
                                    "Monogram": "GN"
                                },
                                {
                                    "EMAIL": "katalin.horváth@mail.hu",
                                    "NEV": "Horváth Katalin",
                                    "Monogram": "HN"
                                },
                                {
                                    "EMAIL": "katalin.zatykó@mail.hu",
                                    "NEV": "Zatykó Katalin",
                                    "Monogram": "ZN"
                                },
                                {
                                    "EMAIL": "katalin.kovács@mail.hu",
                                    "NEV": "Kovács Katalin",
                                    "Monogram": "KN"
                                },
                                {
                                    "EMAIL": "klaudia.bakó@mail.hu",
                                    "NEV": "Bakó Klaudia",
                                    "Monogram": "BA"
                                },
                                {
                                    "EMAIL": "kornél.lukács@mail.hu",
                                    "NEV": "Lukács Kornél",
                                    "Monogram": "LL"
                                },
                                {
                                    "EMAIL": "krisztián.czérna@mail.hu",
                                    "NEV": "Czérna Krisztián",
                                    "Monogram": "CN"
                                },
                                {
                                    "EMAIL": "krisztina.bori@mail.hu",
                                    "NEV": "Bori Krisztina",
                                    "Monogram": "BA"
                                },
                                {
                                    "EMAIL": "lajos.kiss@mail.hu",
                                    "NEV": "Kiss Lajos",
                                    "Monogram": "KS"
                                },
                                {
                                    "EMAIL": "lajos.nagymihály@mail.hu",
                                    "NEV": "Nagymihály Lajos",
                                    "Monogram": "NS"
                                },
                                {
                                    "EMAIL": "lászló.farkas@mail.hu",
                                    "NEV": "Farkas László",
                                    "Monogram": "FÓ"
                                },
                                {
                                    "EMAIL": "lászló.móra@mail.hu",
                                    "NEV": "Móra László",
                                    "Monogram": "MÓ"
                                },
                                {
                                    "EMAIL": "lászló.antal@mail.hu",
                                    "NEV": "Antal László",
                                    "Monogram": "AÓ"
                                },
                                {
                                    "EMAIL": "lászló.nagy@mail.hu",
                                    "NEV": "Nagy László",
                                    "Monogram": "NÓ"
                                },
                                {
                                    "EMAIL": "mária.baráth@mail.hu",
                                    "NEV": "Baráth Mária",
                                    "Monogram": "BA"
                                },
                                {
                                    "EMAIL": "márk.kispál@mail.hu",
                                    "NEV": "Kispál Márk",
                                    "Monogram": "KK"
                                },
                                {
                                    "EMAIL": "márk.horváth@mail.hu",
                                    "NEV": "Horváth Márk",
                                    "Monogram": "HK"
                                },
                                {
                                    "EMAIL": "máté.koza@mail.hu",
                                    "NEV": "Koza Máté",
                                    "Monogram": "KÉ"
                                },
                                {
                                    "EMAIL": "mátyás.szilágyi@mail.hu",
                                    "NEV": "Szilágyi Mátyás",
                                    "Monogram": "SS"
                                },
                                {
                                    "EMAIL": "mihály.juhász@mail.hu",
                                    "NEV": "Juhász Mihály",
                                    "Monogram": "JY"
                                },
                                {
                                    "EMAIL": "miklós.balla@mail.hu",
                                    "NEV": "Balla Miklós",
                                    "Monogram": "BS"
                                },
                                {
                                    "EMAIL": "mónika.mohos@mail.hu",
                                    "NEV": "Mohos Mónika",
                                    "Monogram": "MA"
                                },
                                {
                                    "EMAIL": "nándor.fő@mail.hu",
                                    "NEV": "Fő Nándor",
                                    "Monogram": "FR"
                                },
                                {
                                    "EMAIL": "nikoletta.tatár@mail.hu",
                                    "NEV": "Tatár Nikoletta",
                                    "Monogram": "TA"
                                },
                                {
                                    "EMAIL": "norbert.hegedűs@mail.hu",
                                    "NEV": "Hegedűs Norbert",
                                    "Monogram": "HT"
                                },
                                {
                                    "EMAIL": "pál.barabás@mail.hu",
                                    "NEV": "Barabás Pál",
                                    "Monogram": "BL"
                                },
                                {
                                    "EMAIL": "péter.bíró@mail.hu",
                                    "NEV": "Bíró Péter",
                                    "Monogram": "BR"
                                },
                                {
                                    "EMAIL": "péter.berendi@mail.hu",
                                    "NEV": "Berendi Péter",
                                    "Monogram": "BR"
                                },
                                {
                                    "EMAIL": "rajmond.rácz@mail.hu",
                                    "NEV": "Rácz Rajmond",
                                    "Monogram": "RD"
                                },
                                {
                                    "EMAIL": "réka.szikszai@mail.hu",
                                    "NEV": "Szikszai Réka",
                                    "Monogram": "SA"
                                },
                                {
                                    "EMAIL": "renáta.kardos@mail.hu",
                                    "NEV": "Kardos Renáta",
                                    "Monogram": "KA"
                                },
                                {
                                    "EMAIL": "róbert.iván@mail.hu",
                                    "NEV": "Iván Róbert",
                                    "Monogram": "IT"
                                },
                                {
                                    "EMAIL": "roland.ferencz@mail.hu",
                                    "NEV": "Ferencz Roland",
                                    "Monogram": "FD"
                                },
                                {
                                    "EMAIL": "sándor.farkas@mail.hu",
                                    "NEV": "Farkas Sándor",
                                    "Monogram": "FR"
                                },
                                {
                                    "EMAIL": "sára.farkas@mail.hu",
                                    "NEV": "Farkas Sára",
                                    "Monogram": "FA"
                                },
                                {
                                    "EMAIL": "szabolcs.bodor@mail.hu",
                                    "NEV": "Bodor Szabolcs",
                                    "Monogram": "BS"
                                },
                                {
                                    "EMAIL": "szabolcs.miklós@mail.hu",
                                    "NEV": "Miklós Szabolcs",
                                    "Monogram": "MS"
                                },
                                {
                                    "EMAIL": "szilárd.szalai@mail.hu",
                                    "NEV": "Szalai Szilárd",
                                    "Monogram": "SD"
                                },
                                {
                                    "EMAIL": "szilvia.tari@mail.hu",
                                    "NEV": "Tari Szilvia",
                                    "Monogram": "TA"
                                },
                                {
                                    "EMAIL": "tamara.miklós@mail.hu",
                                    "NEV": "Miklós Tamara",
                                    "Monogram": "MA"
                                },
                                {
                                    "EMAIL": "tamás.antal@mail.hu",
                                    "NEV": "Antal Tamás",
                                    "Monogram": "AS"
                                },
                                {
                                    "EMAIL": "tibor.gombos@mail.hu",
                                    "NEV": "Gombos Tibor",
                                    "Monogram": "GR"
                                },
                                {
                                    "EMAIL": "tihamér.kazy@mail.hu",
                                    "NEV": "Kazy Tihamér",
                                    "Monogram": "KR"
                                },
                                {
                                    "EMAIL": "tímea.dusha@mail.hu",
                                    "NEV": "Dusha Tímea",
                                    "Monogram": "DA"
                                },
                                {
                                    "EMAIL": "valentin.feró@mail.hu",
                                    "NEV": "Feró Valentin",
                                    "Monogram": "FN"
                                },
                                {
                                    "EMAIL": "viktoria.urbán@mail.hu",
                                    "NEV": "Urbán Viktoria",
                                    "Monogram": "UA"
                                },
                                {
                                    "EMAIL": "viktor.keresztúri@mail.hu",
                                    "NEV": "Keresztúri Viktor",
                                    "Monogram": "KR"
                                },
                                {
                                    "EMAIL": "zoltán.fodor@mail.hu",
                                    "NEV": "Fodor Zoltán",
                                    "Monogram": "FN"
                                },
                                {
                                    "EMAIL": "zoltán.pintér@mail.hu",
                                    "NEV": "Pintér Zoltán",
                                    "Monogram": "PN"
                                },
                                {
                                    "EMAIL": "zoltán.tóth@mail.hu",
                                    "NEV": "Tóth Zoltán",
                                    "Monogram": "TN"
                                },
                                {
                                    "EMAIL": "zsolt.pulai@mail.hu",
                                    "NEV": "Pulai Zsolt",
                                    "Monogram": "PT"
                                },
                                {
                                    "EMAIL": "zsuzsa.varsányi@mail.hu",
                                    "NEV": "Varsányi Zsuzsa",
                                    "Monogram": "VA"
                                },
                                {
                                    "EMAIL": "zsuzsanna.barta@mail.hu",
                                    "NEV": "Barta Zsuzsanna",
                                    "Monogram": "BA"
                                },
                                {
                                    "EMAIL": "zsuzsa.vajda@mail.hu",
                                    "NEV": "Vajda Zsuzsa",
                                    "Monogram": "VA"
                                }
                            ]
                        },
                        "text/html": [
                            "<table>",
                            "<tr><th>EMAIL</th><th>NEV</th><th>Monogram</th></tr>",
                            "<tr><td>ádám.kiss@mail.hu</td><td>Kiss Ádám</td><td>KM</td></tr>",
                            "<tr><td>ádám.bieniek@mail.hu</td><td>Bieniek Ádám</td><td>BM</td></tr>",
                            "<tr><td>ákos.bíró@mail.hu</td><td>Bíró Ákos</td><td>BS</td></tr>",
                            "<tr><td>aladár.dunai@mail.hu</td><td>Dunai Aladár</td><td>DR</td></tr>",
                            "<tr><td>alexandra.bagóczki@mail.hu</td><td>Bagóczki Alexandra</td><td>BA</td></tr>",
                            "<tr><td>andrea.maródi@mail.hu</td><td>Maródi Andrea</td><td>MA</td></tr>",
                            "<tr><td>andrás.tóth@mail.hu</td><td>Tóth András</td><td>TS</td></tr>",
                            "<tr><td>andrás.molnár@mail.hu</td><td>Molnár András</td><td>MS</td></tr>",
                            "<tr><td>andrás.vígh@mail.hu</td><td>Vígh András</td><td>VS</td></tr>",
                            "<tr><td>andrás.nagy@mail.hu</td><td>Nagy András</td><td>NS</td></tr>",
                            "<tr><td>andrea.kiss@mail.hu</td><td>Kiss Andrea</td><td>KA</td></tr>",
                            "<tr><td>anett.pivarcsi@mail.hu</td><td>Pivarcsi Anett</td><td>PT</td></tr>",
                            "<tr><td>anita.hamvay-kovács@mail.hu</td><td>Hamvay-Kovács Anita</td><td>HA</td></tr>",
                            "<tr><td>annamária.szűcs@mail.hu</td><td>Szűcs Annamária</td><td>SA</td></tr>",
                            "<tr><td>áron.kelemen@mail.hu</td><td>Kelemen Áron</td><td>KN</td></tr>",
                            "<tr><td>árpád.ötvös@mail.hu</td><td>Ötvös Árpád</td><td>ÖD</td></tr>",
                            "<tr><td>árpád.horváth@mail.hu</td><td>Horváth Árpád</td><td>HD</td></tr>",
                            "<tr><td>árpád.móricz@mail.hu</td><td>Móricz Árpád</td><td>MD</td></tr>",
                            "<tr><td>attila.gulyás@mail.hu</td><td>Gulyás Attila</td><td>GA</td></tr>",
                            "<tr><td>attila.baróti@mail.hu</td><td>Baróti Attila</td><td>BA</td></tr>",
                            "<tr><td>balázs.bozsik@mail.hu</td><td>Bozsik Balázs</td><td>BS</td></tr>",
                            "<tr><td>balázs.szűcs@mail.hu</td><td>Szűcs Balázs</td><td>SS</td></tr>",
                            "<tr><td>bálint.endresz@mail.hu</td><td>Endresz Bálint</td><td>ET</td></tr>",
                            "<tr><td>beáta.bagi@mail.hu</td><td>Bagi Beáta</td><td>BA</td></tr>",
                            "<tr><td>beatrix.kerényi@mail.hu</td><td>Kerényi Beatrix</td><td>KX</td></tr>",
                            "<tr><td>beatrix.szekendi@mail.hu</td><td>Szekendi Beatrix</td><td>SX</td></tr>",
                            "<tr><td>bence.bajusz@mail.hu</td><td>Bajusz Bence</td><td>BE</td></tr>",
                            "<tr><td>bernadett.kovács@mail.hu</td><td>Kovács Bernadett</td><td>KT</td></tr>",
                            "<tr><td>bernadett.orbán@mail.hu</td><td>Orbán Bernadett</td><td>OT</td></tr>",
                            "<tr><td>brigitta.székely@mail.hu</td><td>Székely Brigitta</td><td>SA</td></tr>",
                            "<tr><td>brigitta.pataki@mail.hu</td><td>Pataki Brigitta</td><td>PA</td></tr>",
                            "<tr><td>csongor.nagymihály@mail.hu</td><td>Nagymihály Csongor</td><td>NR</td></tr>",
                            "<tr><td>dániel.rácz@mail.hu</td><td>Rácz Dániel</td><td>RL</td></tr>",
                            "<tr><td>dániel.keszler@mail.hu</td><td>Keszler Dániel</td><td>KL</td></tr>",
                            "<tr><td>debóra.barna@mail.hu</td><td>Barna Debóra</td><td>BA</td></tr>",
                            "<tr><td>dóra.sarodi@mail.hu</td><td>Sarodi Dóra</td><td>SA</td></tr>",
                            "<tr><td>edit.bittmann@mail.hu</td><td>Bittmann Edit</td><td>BT</td></tr>",
                            "<tr><td>emese.kuruc@mail.hu</td><td>Kuruc Emese</td><td>KE</td></tr>",
                            "<tr><td>eszter.molnár@mail.hu</td><td>Molnár Eszter</td><td>MR</td></tr>",
                            "<tr><td>eszter.balogh@mail.hu</td><td>Balogh Eszter</td><td>BR</td></tr>",
                            "<tr><td>eszter.fülöp@mail.hu</td><td>Fülöp Eszter</td><td>FR</td></tr>",
                            "<tr><td>eszter.érsek@mail.hu</td><td>Érsek Eszter</td><td>ÉR</td></tr>",
                            "<tr><td>ferenc.orosz@mail.hu</td><td>Orosz Ferenc</td><td>OC</td></tr>",
                            "<tr><td>gábor.telek@mail.hu</td><td>Telek Gábor</td><td>TR</td></tr>",
                            "<tr><td>georgij.nyíri@mail.hu</td><td>Nyíri Georgij</td><td>NJ</td></tr>",
                            "<tr><td>gyöngyi.kornseé@mail.hu</td><td>Kornseé Gyöngyi</td><td>KI</td></tr>",
                            "<tr><td>henrik.nádudvari@mail.hu</td><td>Nádudvari Henrik</td><td>NK</td></tr>",
                            "<tr><td>ibolya.andor@mail.hu</td><td>Andor Ibolya</td><td>AA</td></tr>",
                            "<tr><td>imre.búza@mail.hu</td><td>Búza Imre</td><td>BE</td></tr>",
                            "<tr><td>imre.papp@mail.hu</td><td>Papp Imre</td><td>PE</td></tr>",
                            "<tr><td>istván.vizi@mail.hu</td><td>Vizi István</td><td>VN</td></tr>",
                            "<tr><td>józsef.vajda@mail.hu</td><td>Vajda József</td><td>VF</td></tr>",
                            "<tr><td>józsef.gyuris@mail.hu</td><td>Gyuris József</td><td>GF</td></tr>",
                            "<tr><td>katalin.gondos@mail.hu</td><td>Gondos Katalin</td><td>GN</td></tr>",
                            "<tr><td>katalin.horváth@mail.hu</td><td>Horváth Katalin</td><td>HN</td></tr>",
                            "<tr><td>katalin.zatykó@mail.hu</td><td>Zatykó Katalin</td><td>ZN</td></tr>",
                            "<tr><td>katalin.kovács@mail.hu</td><td>Kovács Katalin</td><td>KN</td></tr>",
                            "<tr><td>klaudia.bakó@mail.hu</td><td>Bakó Klaudia</td><td>BA</td></tr>",
                            "<tr><td>kornél.lukács@mail.hu</td><td>Lukács Kornél</td><td>LL</td></tr>",
                            "<tr><td>krisztián.czérna@mail.hu</td><td>Czérna Krisztián</td><td>CN</td></tr>",
                            "<tr><td>krisztina.bori@mail.hu</td><td>Bori Krisztina</td><td>BA</td></tr>",
                            "<tr><td>lajos.kiss@mail.hu</td><td>Kiss Lajos</td><td>KS</td></tr>",
                            "<tr><td>lajos.nagymihály@mail.hu</td><td>Nagymihály Lajos</td><td>NS</td></tr>",
                            "<tr><td>lászló.farkas@mail.hu</td><td>Farkas László</td><td>FÓ</td></tr>",
                            "<tr><td>lászló.móra@mail.hu</td><td>Móra László</td><td>MÓ</td></tr>",
                            "<tr><td>lászló.antal@mail.hu</td><td>Antal László</td><td>AÓ</td></tr>",
                            "<tr><td>lászló.nagy@mail.hu</td><td>Nagy László</td><td>NÓ</td></tr>",
                            "<tr><td>mária.baráth@mail.hu</td><td>Baráth Mária</td><td>BA</td></tr>",
                            "<tr><td>márk.kispál@mail.hu</td><td>Kispál Márk</td><td>KK</td></tr>",
                            "<tr><td>márk.horváth@mail.hu</td><td>Horváth Márk</td><td>HK</td></tr>",
                            "<tr><td>máté.koza@mail.hu</td><td>Koza Máté</td><td>KÉ</td></tr>",
                            "<tr><td>mátyás.szilágyi@mail.hu</td><td>Szilágyi Mátyás</td><td>SS</td></tr>",
                            "<tr><td>mihály.juhász@mail.hu</td><td>Juhász Mihály</td><td>JY</td></tr>",
                            "<tr><td>miklós.balla@mail.hu</td><td>Balla Miklós</td><td>BS</td></tr>",
                            "<tr><td>mónika.mohos@mail.hu</td><td>Mohos Mónika</td><td>MA</td></tr>",
                            "<tr><td>nándor.fő@mail.hu</td><td>Fő Nándor</td><td>FR</td></tr>",
                            "<tr><td>nikoletta.tatár@mail.hu</td><td>Tatár Nikoletta</td><td>TA</td></tr>",
                            "<tr><td>norbert.hegedűs@mail.hu</td><td>Hegedűs Norbert</td><td>HT</td></tr>",
                            "<tr><td>pál.barabás@mail.hu</td><td>Barabás Pál</td><td>BL</td></tr>",
                            "<tr><td>péter.bíró@mail.hu</td><td>Bíró Péter</td><td>BR</td></tr>",
                            "<tr><td>péter.berendi@mail.hu</td><td>Berendi Péter</td><td>BR</td></tr>",
                            "<tr><td>rajmond.rácz@mail.hu</td><td>Rácz Rajmond</td><td>RD</td></tr>",
                            "<tr><td>réka.szikszai@mail.hu</td><td>Szikszai Réka</td><td>SA</td></tr>",
                            "<tr><td>renáta.kardos@mail.hu</td><td>Kardos Renáta</td><td>KA</td></tr>",
                            "<tr><td>róbert.iván@mail.hu</td><td>Iván Róbert</td><td>IT</td></tr>",
                            "<tr><td>roland.ferencz@mail.hu</td><td>Ferencz Roland</td><td>FD</td></tr>",
                            "<tr><td>sándor.farkas@mail.hu</td><td>Farkas Sándor</td><td>FR</td></tr>",
                            "<tr><td>sára.farkas@mail.hu</td><td>Farkas Sára</td><td>FA</td></tr>",
                            "<tr><td>szabolcs.bodor@mail.hu</td><td>Bodor Szabolcs</td><td>BS</td></tr>",
                            "<tr><td>szabolcs.miklós@mail.hu</td><td>Miklós Szabolcs</td><td>MS</td></tr>",
                            "<tr><td>szilárd.szalai@mail.hu</td><td>Szalai Szilárd</td><td>SD</td></tr>",
                            "<tr><td>szilvia.tari@mail.hu</td><td>Tari Szilvia</td><td>TA</td></tr>",
                            "<tr><td>tamara.miklós@mail.hu</td><td>Miklós Tamara</td><td>MA</td></tr>",
                            "<tr><td>tamás.antal@mail.hu</td><td>Antal Tamás</td><td>AS</td></tr>",
                            "<tr><td>tibor.gombos@mail.hu</td><td>Gombos Tibor</td><td>GR</td></tr>",
                            "<tr><td>tihamér.kazy@mail.hu</td><td>Kazy Tihamér</td><td>KR</td></tr>",
                            "<tr><td>tímea.dusha@mail.hu</td><td>Dusha Tímea</td><td>DA</td></tr>",
                            "<tr><td>valentin.feró@mail.hu</td><td>Feró Valentin</td><td>FN</td></tr>",
                            "<tr><td>viktoria.urbán@mail.hu</td><td>Urbán Viktoria</td><td>UA</td></tr>",
                            "<tr><td>viktor.keresztúri@mail.hu</td><td>Keresztúri Viktor</td><td>KR</td></tr>",
                            "<tr><td>zoltán.fodor@mail.hu</td><td>Fodor Zoltán</td><td>FN</td></tr>",
                            "<tr><td>zoltán.pintér@mail.hu</td><td>Pintér Zoltán</td><td>PN</td></tr>",
                            "<tr><td>zoltán.tóth@mail.hu</td><td>Tóth Zoltán</td><td>TN</td></tr>",
                            "<tr><td>zsolt.pulai@mail.hu</td><td>Pulai Zsolt</td><td>PT</td></tr>",
                            "<tr><td>zsuzsa.varsányi@mail.hu</td><td>Varsányi Zsuzsa</td><td>VA</td></tr>",
                            "<tr><td>zsuzsanna.barta@mail.hu</td><td>Barta Zsuzsanna</td><td>BA</td></tr>",
                            "<tr><td>zsuzsa.vajda@mail.hu</td><td>Vajda Zsuzsa</td><td>VA</td></tr>",
                            "</table>"
                        ]
                    }
                }
            ],
            "execution_count": 17
        },
        {
            "cell_type": "code",
            "source": [
                "SELECT SZALLAS_ID, SZALLAS_NEV, HELY, TIPUS,\r\n",
                "DATEDIFF(DAY, ROGZ_IDO, GETDATE()) As 'Eltelt idő'\r\n",
                "FROM dbo.Szallashely\r\n",
                "WHERE TIPUS !='vendégház' AND TIPUS!='panzió' --WHERE tipus not in('panzió', 'vendeghaz')"
            ],
            "metadata": {
                "azdata_cell_guid": "ab807ba1-1b88-45ac-bbf0-960acf9d6aaf",
                "language": "sql"
            },
            "outputs": [
                {
                    "output_type": "display_data",
                    "data": {
                        "text/html": "(10 rows affected)"
                    },
                    "metadata": {}
                },
                {
                    "output_type": "display_data",
                    "data": {
                        "text/html": "Total execution time: 00:00:00.012"
                    },
                    "metadata": {}
                },
                {
                    "output_type": "execute_result",
                    "metadata": {},
                    "execution_count": 20,
                    "data": {
                        "application/vnd.dataresource+json": {
                            "schema": {
                                "fields": [
                                    {
                                        "name": "SZALLAS_ID"
                                    },
                                    {
                                        "name": "SZALLAS_NEV"
                                    },
                                    {
                                        "name": "HELY"
                                    },
                                    {
                                        "name": "TIPUS"
                                    },
                                    {
                                        "name": "Eltelt idő"
                                    }
                                ]
                            },
                            "data": [
                                {
                                    "SZALLAS_ID": "3",
                                    "SZALLAS_NEV": "Fortuna Apartman",
                                    "HELY": "Hajdúbihar megye",
                                    "TIPUS": "Apartman",
                                    "Eltelt idő": "3280"
                                },
                                {
                                    "SZALLAS_ID": "6",
                                    "SZALLAS_NEV": "Kentaur Hotel",
                                    "HELY": "Balaton-dél",
                                    "TIPUS": "Hotel",
                                    "Eltelt idő": "3278"
                                },
                                {
                                    "SZALLAS_ID": "7",
                                    "SZALLAS_NEV": "Szieszta Apartmanház",
                                    "HELY": "Balaton-dél",
                                    "TIPUS": "Apartman",
                                    "Eltelt idő": "3275"
                                },
                                {
                                    "SZALLAS_ID": "8",
                                    "SZALLAS_NEV": "Hotel Három Hattyú",
                                    "HELY": "Balaton-dél",
                                    "TIPUS": "Hotel",
                                    "Eltelt idő": "3273"
                                },
                                {
                                    "SZALLAS_ID": "10",
                                    "SZALLAS_NEV": "Lagúna Hotel",
                                    "HELY": "Budapest",
                                    "TIPUS": "Hotel",
                                    "Eltelt idő": "3266"
                                },
                                {
                                    "SZALLAS_ID": "12",
                                    "SZALLAS_NEV": "Gold Hotel",
                                    "HELY": "Budapest",
                                    "TIPUS": "Hotel",
                                    "Eltelt idő": "3262"
                                },
                                {
                                    "SZALLAS_ID": "16",
                                    "SZALLAS_NEV": "Bagoly Hotel",
                                    "HELY": "Pest megye",
                                    "TIPUS": "Hotel",
                                    "Eltelt idő": "3254"
                                },
                                {
                                    "SZALLAS_ID": "17",
                                    "SZALLAS_NEV": "Szarvas Hotel",
                                    "HELY": "Tolna megye",
                                    "TIPUS": "Hotel",
                                    "Eltelt idő": "3251"
                                },
                                {
                                    "SZALLAS_ID": "18",
                                    "SZALLAS_NEV": "Fortuna Apartman",
                                    "HELY": "Dél-Somogy",
                                    "TIPUS": "Apartman",
                                    "Eltelt idő": "3248"
                                },
                                {
                                    "SZALLAS_ID": "20",
                                    "SZALLAS_NEV": "Kollégium",
                                    "HELY": "Budapest",
                                    "TIPUS": "Diákszálló",
                                    "Eltelt idő": "3248"
                                }
                            ]
                        },
                        "text/html": [
                            "<table>",
                            "<tr><th>SZALLAS_ID</th><th>SZALLAS_NEV</th><th>HELY</th><th>TIPUS</th><th>Eltelt idő</th></tr>",
                            "<tr><td>3</td><td>Fortuna Apartman</td><td>Hajdúbihar megye</td><td>Apartman</td><td>3280</td></tr>",
                            "<tr><td>6</td><td>Kentaur Hotel</td><td>Balaton-dél</td><td>Hotel</td><td>3278</td></tr>",
                            "<tr><td>7</td><td>Szieszta Apartmanház</td><td>Balaton-dél</td><td>Apartman</td><td>3275</td></tr>",
                            "<tr><td>8</td><td>Hotel Három Hattyú</td><td>Balaton-dél</td><td>Hotel</td><td>3273</td></tr>",
                            "<tr><td>10</td><td>Lagúna Hotel</td><td>Budapest</td><td>Hotel</td><td>3266</td></tr>",
                            "<tr><td>12</td><td>Gold Hotel</td><td>Budapest</td><td>Hotel</td><td>3262</td></tr>",
                            "<tr><td>16</td><td>Bagoly Hotel</td><td>Pest megye</td><td>Hotel</td><td>3254</td></tr>",
                            "<tr><td>17</td><td>Szarvas Hotel</td><td>Tolna megye</td><td>Hotel</td><td>3251</td></tr>",
                            "<tr><td>18</td><td>Fortuna Apartman</td><td>Dél-Somogy</td><td>Apartman</td><td>3248</td></tr>",
                            "<tr><td>20</td><td>Kollégium</td><td>Budapest</td><td>Diákszálló</td><td>3248</td></tr>",
                            "</table>"
                        ]
                    }
                }
            ],
            "execution_count": 20
        }
    ]
}