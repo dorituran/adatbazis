{
    "metadata": {
        "kernelspec": {
            "name": "SQL",
            "display_name": "SQL",
            "language": "sql"
        },
        "language_info": {
            "name": "sql",
            "version": ""
        }
    },
    "nbformat_minor": 2,
    "nbformat": 4,
    "cells": [
        {
            "cell_type": "code",
            "source": [
                "--1.feladat\r\n",
                "SELECT DATEDIFF(year, SZUL_DAT, GETDATE()) AS 'Életkor', COUNT(USERNEV) AS 'Vendégek száma'\r\n",
                "FROM Vendeg\r\n",
                "WHERE DATEDIFF(year, SZUL_DAT, GETDATE())>=18\r\n",
                "GROUP BY DATEDIFF(year, SZUL_DAT, GETDATE())\r\n",
                "HAVING COUNT(USERNEV)>=5"
            ],
            "metadata": {
                "azdata_cell_guid": "2c456944-4985-47e6-b169-ac00c5667c9c",
                "language": "sql",
                "tags": []
            },
            "outputs": [
                {
                    "output_type": "display_data",
                    "data": {
                        "text/html": "(23 rows affected)"
                    },
                    "metadata": {}
                },
                {
                    "output_type": "display_data",
                    "data": {
                        "text/html": "Total execution time: 00:00:00.012"
                    },
                    "metadata": {}
                },
                {
                    "output_type": "execute_result",
                    "metadata": {},
                    "execution_count": 5,
                    "data": {
                        "application/vnd.dataresource+json": {
                            "schema": {
                                "fields": [
                                    {
                                        "name": "Életkor"
                                    },
                                    {
                                        "name": "Vendégek száma"
                                    }
                                ]
                            },
                            "data": [
                                {
                                    "Életkor": "28",
                                    "Vendégek száma": "12"
                                },
                                {
                                    "Életkor": "29",
                                    "Vendégek száma": "7"
                                },
                                {
                                    "Életkor": "30",
                                    "Vendégek száma": "6"
                                },
                                {
                                    "Életkor": "32",
                                    "Vendégek száma": "5"
                                },
                                {
                                    "Életkor": "34",
                                    "Vendégek száma": "6"
                                },
                                {
                                    "Életkor": "35",
                                    "Vendégek száma": "8"
                                },
                                {
                                    "Életkor": "36",
                                    "Vendégek száma": "7"
                                },
                                {
                                    "Életkor": "37",
                                    "Vendégek száma": "6"
                                },
                                {
                                    "Életkor": "38",
                                    "Vendégek száma": "5"
                                },
                                {
                                    "Életkor": "39",
                                    "Vendégek száma": "9"
                                },
                                {
                                    "Életkor": "40",
                                    "Vendégek száma": "6"
                                },
                                {
                                    "Életkor": "41",
                                    "Vendégek száma": "8"
                                },
                                {
                                    "Életkor": "42",
                                    "Vendégek száma": "8"
                                },
                                {
                                    "Életkor": "45",
                                    "Vendégek száma": "7"
                                },
                                {
                                    "Életkor": "46",
                                    "Vendégek száma": "7"
                                },
                                {
                                    "Életkor": "47",
                                    "Vendégek száma": "7"
                                },
                                {
                                    "Életkor": "48",
                                    "Vendégek száma": "5"
                                },
                                {
                                    "Életkor": "49",
                                    "Vendégek száma": "7"
                                },
                                {
                                    "Életkor": "50",
                                    "Vendégek száma": "10"
                                },
                                {
                                    "Életkor": "54",
                                    "Vendégek száma": "5"
                                },
                                {
                                    "Életkor": "56",
                                    "Vendégek száma": "8"
                                },
                                {
                                    "Életkor": "57",
                                    "Vendégek száma": "7"
                                },
                                {
                                    "Életkor": "58",
                                    "Vendégek száma": "8"
                                }
                            ]
                        },
                        "text/html": [
                            "<table>",
                            "<tr><th>Életkor</th><th>Vendégek száma</th></tr>",
                            "<tr><td>28</td><td>12</td></tr>",
                            "<tr><td>29</td><td>7</td></tr>",
                            "<tr><td>30</td><td>6</td></tr>",
                            "<tr><td>32</td><td>5</td></tr>",
                            "<tr><td>34</td><td>6</td></tr>",
                            "<tr><td>35</td><td>8</td></tr>",
                            "<tr><td>36</td><td>7</td></tr>",
                            "<tr><td>37</td><td>6</td></tr>",
                            "<tr><td>38</td><td>5</td></tr>",
                            "<tr><td>39</td><td>9</td></tr>",
                            "<tr><td>40</td><td>6</td></tr>",
                            "<tr><td>41</td><td>8</td></tr>",
                            "<tr><td>42</td><td>8</td></tr>",
                            "<tr><td>45</td><td>7</td></tr>",
                            "<tr><td>46</td><td>7</td></tr>",
                            "<tr><td>47</td><td>7</td></tr>",
                            "<tr><td>48</td><td>5</td></tr>",
                            "<tr><td>49</td><td>7</td></tr>",
                            "<tr><td>50</td><td>10</td></tr>",
                            "<tr><td>54</td><td>5</td></tr>",
                            "<tr><td>56</td><td>8</td></tr>",
                            "<tr><td>57</td><td>7</td></tr>",
                            "<tr><td>58</td><td>8</td></tr>",
                            "</table>"
                        ]
                    }
                }
            ],
            "execution_count": 5
        },
        {
            "cell_type": "code",
            "source": [
                "--2.feladat\r\n",
                "SELECT SZOBA_ID AS 'Szoba azonosítója', YEAR(METTOL) AS 'Év', COUNT(FOGLALAS_PK) AS 'Foglalások száma'\r\n",
                "FROM Szoba sz JOIN Foglalas f ON sz.SZOBA_ID=f.SZOBA_FK\r\n",
                "WHERE CONVERT(INT,SZOBA_SZAMA)%2<>0\r\n",
                "GROUP BY SZOBA_ID, YEAR(METTOL)\r\n",
                "HAVING COUNT(FOGLALAS_PK)>10"
            ],
            "metadata": {
                "azdata_cell_guid": "063cd601-a919-4f52-b466-cc58332822a1",
                "language": "sql"
            },
            "outputs": [
                {
                    "output_type": "display_data",
                    "data": {
                        "text/html": "(1 row affected)"
                    },
                    "metadata": {}
                },
                {
                    "output_type": "display_data",
                    "data": {
                        "text/html": "Total execution time: 00:00:00.005"
                    },
                    "metadata": {}
                },
                {
                    "output_type": "execute_result",
                    "metadata": {},
                    "execution_count": 12,
                    "data": {
                        "application/vnd.dataresource+json": {
                            "schema": {
                                "fields": [
                                    {
                                        "name": "Szoba azonosítója"
                                    },
                                    {
                                        "name": "Év"
                                    },
                                    {
                                        "name": "Foglalások száma"
                                    }
                                ]
                            },
                            "data": [
                                {
                                    "Szoba azonosítója": "58",
                                    "Év": "2016",
                                    "Foglalások száma": "12"
                                }
                            ]
                        },
                        "text/html": [
                            "<table>",
                            "<tr><th>Szoba azonosítója</th><th>Év</th><th>Foglalások száma</th></tr>",
                            "<tr><td>58</td><td>2016</td><td>12</td></tr>",
                            "</table>"
                        ]
                    }
                }
            ],
            "execution_count": 12
        }
    ]
}