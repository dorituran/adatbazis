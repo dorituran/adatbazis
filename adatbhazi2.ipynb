{
    "metadata": {
        "kernelspec": {
            "name": "SQL",
            "display_name": "SQL",
            "language": "sql"
        },
        "language_info": {
            "name": "sql",
            "version": ""
        }
    },
    "nbformat_minor": 2,
    "nbformat": 4,
    "cells": [
        {
            "cell_type": "markdown",
            "source": [
                ""
            ],
            "metadata": {
                "azdata_cell_guid": "4d4650c3-c8f8-4e45-8658-9a1fd6ac6511"
            }
        },
        {
            "cell_type": "code",
            "source": [
                "CREATE TABLE Ugyfel (\n",
                "    login NVARCHAR(255) PRIMARY KEY,\n",
                "    email NVARCHAR(255) MASKED WITH (FUNCTION = 'email()') NOT NULL,\n",
                "    nev NVARCHAR(255) MASKED WITH (FUNCTION = 'partial(1,\"xxxx\",1)') NOT NULL,\n",
                "    szulev INT,\n",
                "    nem NVARCHAR(1) MASKED WITH (FUNCTION = 'default()'), --random típusú\n",
                "    cim NVARCHAR(255) MASKED WITH (FUNCTION = 'partial(3,\"xxxxxx\",3)' ) \n",
                ");\n",
                "INSERT INTO Ugyfel (login, email, nev, szulev, nem, cim) VALUES\n",
                "('kovacsp', 'peter.kovacs@gmail.com','Kovács Péter', '1975', 'F', 'Budapest, Fő utca 1.'),\n",
                "('annagy', 'anna.nagy@gmail.com', 'Nagy Anna', '1965', 'N', 'Debrecen, Kossuth tér 5.'),\n",
                "('gabi1', 'gabor.szabo@gmail.com', 'Szabó Gábor', '2000', 'F', 'Szeged, Rákóczi út 10.'),\n",
                "('tothm', 'marton.toth@gmail.com', 'Tóth Márton', '1988', 'F', 'Győr, Baross utca 8.'),\n",
                "('kissj', 'judit.kiss@gmail.com', 'Kiss Judit', '1992', 'N', 'Pécs, Király utca 12.'),\n",
                "('baloghz', 'zoltan.balogh@gmail.com', 'Balogh Zoltán', '1970', 'F', 'Miskolc, Szentpáli utca 3.'),\n",
                "('horvathv', 'viktoria.horvath@gmail.com', 'Horváth Viktória', '1985', 'N', 'Székesfehérvár, Palotai út 15.'),\n",
                "('vargaa', 'adam.varga@gmail.com', 'Varga Ádám', '1998', 'F', 'Tatabánya, Köztársaság út 20.'),\n",
                "('molnarn', 'noemi.molnar@gmail.com', 'Molnár Noémi', '2001', 'N', 'Eger, Dobó tér 1.'),\n",
                "('szilagyir', 'robert.szilagyi@gmail.com', 'Szilágyi Róbert', '1979', 'F', 'Zalaegerszeg, Kossuth Lajos utca 9.'),\n",
                "('nemethk', 'kata.nemeth@gmail.com', 'Németh Kata', '1995', 'N', 'Kaposvár, Fő tér 6.');\n",
                "\n",
                "CREATE USER maszk_nezo WITHOUT LOGIN;\n",
                "GRANT SELECT ON dbo.Ugyfel TO maszk_nezo;\n",
                "\n",
                "EXECUTE AS USER = 'maszk_nezo';\n",
                "SELECT cim FROM dbo.Ugyfel;\n",
                "REVERT;"
            ],
            "metadata": {
                "azdata_cell_guid": "6d6445c9-68ac-458a-89fc-754ef7192a08",
                "language": "sql"
            },
            "outputs": [],
            "execution_count": null
        }
    ]
}